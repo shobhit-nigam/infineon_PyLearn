{
 "cells": [
  {
   "cell_type": "code",
   "execution_count": 1,
   "metadata": {},
   "outputs": [],
   "source": [
    "fa = open(\"one.csv\", \"r\")"
   ]
  },
  {
   "cell_type": "code",
   "execution_count": 21,
   "metadata": {},
   "outputs": [],
   "source": [
    "stra = fa.read()\n",
    "fa.close()"
   ]
  },
  {
   "cell_type": "code",
   "execution_count": 4,
   "metadata": {},
   "outputs": [],
   "source": [
    "lista = stra.splitlines()"
   ]
  },
  {
   "cell_type": "code",
   "execution_count": 5,
   "metadata": {},
   "outputs": [
    {
     "data": {
      "text/plain": [
       "['val_a,val_b,val_c',\n",
       " 'af,26.5,11',\n",
       " 'th,73.0,22',\n",
       " 'uh,45.0,33',\n",
       " 'yf,87.0,44',\n",
       " 'ok,96.5,55',\n",
       " 'we,112.0,66',\n",
       " 'rt,127.5,77',\n",
       " 'bh,33.0,88',\n",
       " 'il,158.5,99',\n",
       " 'sd,100.0,110',\n",
       " 'fg,189.5,121',\n",
       " 'bh,205.0,132']"
      ]
     },
     "execution_count": 5,
     "metadata": {},
     "output_type": "execute_result"
    }
   ],
   "source": [
    "lista"
   ]
  },
  {
   "cell_type": "code",
   "execution_count": 6,
   "metadata": {},
   "outputs": [
    {
     "name": "stdout",
     "output_type": "stream",
     "text": [
      "val_a,val_b,val_c\n",
      "af,26.5,11\n",
      "th,73.0,22\n",
      "uh,45.0,33\n",
      "yf,87.0,44\n",
      "ok,96.5,55\n",
      "we,112.0,66\n",
      "rt,127.5,77\n",
      "bh,33.0,88\n",
      "il,158.5,99\n",
      "sd,100.0,110\n",
      "fg,189.5,121\n",
      "bh,205.0,132\n"
     ]
    }
   ],
   "source": [
    "for line in lista:\n",
    "    print(line)"
   ]
  },
  {
   "cell_type": "code",
   "execution_count": 8,
   "metadata": {},
   "outputs": [
    {
     "name": "stdout",
     "output_type": "stream",
     "text": [
      "['val_a', 'val_b', 'val_c']\n",
      "['af', '26.5', '11']\n",
      "['th', '73.0', '22']\n",
      "['uh', '45.0', '33']\n",
      "['yf', '87.0', '44']\n",
      "['ok', '96.5', '55']\n",
      "['we', '112.0', '66']\n",
      "['rt', '127.5', '77']\n",
      "['bh', '33.0', '88']\n",
      "['il', '158.5', '99']\n",
      "['sd', '100.0', '110']\n",
      "['fg', '189.5', '121']\n",
      "['bh', '205.0', '132']\n"
     ]
    }
   ],
   "source": [
    "for line in lista:\n",
    "    temp = line.split(',')\n",
    "    print(temp)"
   ]
  },
  {
   "cell_type": "code",
   "execution_count": 9,
   "metadata": {},
   "outputs": [
    {
     "name": "stdout",
     "output_type": "stream",
     "text": [
      "val_b\n",
      "26.5\n",
      "73.0\n",
      "45.0\n",
      "87.0\n",
      "96.5\n",
      "112.0\n",
      "127.5\n",
      "33.0\n",
      "158.5\n",
      "100.0\n",
      "189.5\n",
      "205.0\n"
     ]
    }
   ],
   "source": [
    "for line in lista:\n",
    "    temp = line.split(',')\n",
    "    print(temp[1])"
   ]
  },
  {
   "cell_type": "code",
   "execution_count": 10,
   "metadata": {},
   "outputs": [],
   "source": [
    "col_2 = []\n",
    "\n",
    "for line in lista:\n",
    "    temp = line.split(',')\n",
    "    col_2.append(temp[2])"
   ]
  },
  {
   "cell_type": "code",
   "execution_count": 11,
   "metadata": {},
   "outputs": [
    {
     "data": {
      "text/plain": [
       "['val_c',\n",
       " '11',\n",
       " '22',\n",
       " '33',\n",
       " '44',\n",
       " '55',\n",
       " '66',\n",
       " '77',\n",
       " '88',\n",
       " '99',\n",
       " '110',\n",
       " '121',\n",
       " '132']"
      ]
     },
     "execution_count": 11,
     "metadata": {},
     "output_type": "execute_result"
    }
   ],
   "source": [
    "col_2"
   ]
  },
  {
   "cell_type": "code",
   "execution_count": 13,
   "metadata": {},
   "outputs": [
    {
     "name": "stdout",
     "output_type": "stream",
     "text": [
      "['26.5', '73.0', '45.0', '87.0', '96.5', '112.0', '127.5', '33.0', '158.5', '100.0', '189.5', '205.0']\n"
     ]
    }
   ],
   "source": [
    "col_2 = []\n",
    "\n",
    "for line in lista[1:]:\n",
    "    temp = line.split(',')\n",
    "    col_2.append(temp[1])\n",
    "    \n",
    "print(col_2)"
   ]
  },
  {
   "cell_type": "code",
   "execution_count": 14,
   "metadata": {},
   "outputs": [
    {
     "name": "stdout",
     "output_type": "stream",
     "text": [
      "[26.5, 73.0, 45.0, 87.0, 96.5, 112.0, 127.5, 33.0, 158.5, 100.0, 189.5, 205.0]\n"
     ]
    }
   ],
   "source": [
    "col_2 = []\n",
    "\n",
    "for line in lista[1:]:\n",
    "    temp = line.split(',')\n",
    "    col_2.append(float(temp[1]))\n",
    "    \n",
    "print(col_2)"
   ]
  },
  {
   "cell_type": "code",
   "execution_count": 16,
   "metadata": {},
   "outputs": [
    {
     "data": {
      "text/plain": [
       "104.45833333333333"
      ]
     },
     "execution_count": 16,
     "metadata": {},
     "output_type": "execute_result"
    }
   ],
   "source": [
    "sum(col_2)/len(col_2)"
   ]
  },
  {
   "cell_type": "code",
   "execution_count": 20,
   "metadata": {},
   "outputs": [
    {
     "name": "stdout",
     "output_type": "stream",
     "text": [
      "[26.5, 73.0, 45.0, 87.0, 96.5, 112.0, 127.5, 33.0, 158.5, 100.0, 189.5, 205.0]\n"
     ]
    }
   ],
   "source": [
    "col_1 = []\n",
    "\n",
    "for line in lista[1:]:\n",
    "    col_1.append(float(line.split(',')[1]))\n",
    "    \n",
    "print(col_1)"
   ]
  },
  {
   "cell_type": "code",
   "execution_count": 27,
   "metadata": {},
   "outputs": [],
   "source": [
    "def read_csv_col(name, col):\n",
    "    fa = open(name, \"r\")\n",
    "    stra = fa.read()\n",
    "    fa.close()\n",
    "    lista = stra.splitlines()\n",
    "    col_list = []\n",
    "\n",
    "    for line in lista[1:]:\n",
    "        col_list.append(float(line.split(',')[col]))\n",
    "    return col_list"
   ]
  },
  {
   "cell_type": "code",
   "execution_count": 28,
   "metadata": {},
   "outputs": [
    {
     "data": {
      "text/plain": [
       "[26.5, 73.0, 45.0, 87.0, 96.5, 112.0, 127.5, 33.0, 158.5, 100.0, 189.5, 205.0]"
      ]
     },
     "execution_count": 28,
     "metadata": {},
     "output_type": "execute_result"
    }
   ],
   "source": [
    "read_csv_col(\"one.csv\", 1)"
   ]
  },
  {
   "cell_type": "code",
   "execution_count": 29,
   "metadata": {},
   "outputs": [
    {
     "data": {
      "text/plain": [
       "[11.0, 22.0, 33.0, 44.0, 55.0, 66.0, 77.0, 88.0, 99.0, 110.0, 121.0, 132.0]"
      ]
     },
     "execution_count": 29,
     "metadata": {},
     "output_type": "execute_result"
    }
   ],
   "source": [
    "read_csv_col(\"one.csv\", 2)"
   ]
  },
  {
   "cell_type": "code",
   "execution_count": null,
   "metadata": {},
   "outputs": [],
   "source": []
  }
 ],
 "metadata": {
  "kernelspec": {
   "display_name": "Python 3",
   "language": "python",
   "name": "python3"
  },
  "language_info": {
   "codemirror_mode": {
    "name": "ipython",
    "version": 3
   },
   "file_extension": ".py",
   "mimetype": "text/x-python",
   "name": "python",
   "nbconvert_exporter": "python",
   "pygments_lexer": "ipython3",
   "version": "3.7.7"
  }
 },
 "nbformat": 4,
 "nbformat_minor": 4
}
