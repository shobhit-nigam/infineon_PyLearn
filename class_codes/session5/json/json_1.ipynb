{
 "cells": [
  {
   "cell_type": "code",
   "execution_count": 1,
   "metadata": {},
   "outputs": [],
   "source": [
    "import json"
   ]
  },
  {
   "cell_type": "code",
   "execution_count": 2,
   "metadata": {},
   "outputs": [],
   "source": [
    "with open(\"example_1.json\", \"r\") as fj:\n",
    "    data = json.load(fj)"
   ]
  },
  {
   "cell_type": "code",
   "execution_count": 3,
   "metadata": {},
   "outputs": [
    {
     "name": "stdout",
     "output_type": "stream",
     "text": [
      "<class 'dict'>\n"
     ]
    }
   ],
   "source": [
    "print(type(data))"
   ]
  },
  {
   "cell_type": "code",
   "execution_count": 4,
   "metadata": {},
   "outputs": [
    {
     "data": {
      "text/plain": [
       "{'fruit': 'Apple', 'size': 'Large', 'color': 'Red'}"
      ]
     },
     "execution_count": 4,
     "metadata": {},
     "output_type": "execute_result"
    }
   ],
   "source": [
    "data"
   ]
  },
  {
   "cell_type": "code",
   "execution_count": 5,
   "metadata": {},
   "outputs": [
    {
     "data": {
      "text/plain": [
       "'Apple'"
      ]
     },
     "execution_count": 5,
     "metadata": {},
     "output_type": "execute_result"
    }
   ],
   "source": [
    "data['fruit']"
   ]
  },
  {
   "cell_type": "code",
   "execution_count": 6,
   "metadata": {},
   "outputs": [],
   "source": [
    "with open(\"example_2.json\", \"r\") as fj:\n",
    "    datab = json.load(fj)"
   ]
  },
  {
   "cell_type": "code",
   "execution_count": 7,
   "metadata": {},
   "outputs": [
    {
     "data": {
      "text/plain": [
       "{'quiz': {'sport': {'q1': {'question': 'Which one is correct team name in NBA?',\n",
       "    'options': ['New York Bulls',\n",
       "     'Los Angeles Kings',\n",
       "     'Golden State Warriros',\n",
       "     'Huston Rocket'],\n",
       "    'answer': 'Huston Rocket'}},\n",
       "  'maths': {'q1': {'question': '5 + 7 = ?',\n",
       "    'options': ['10', '11', '12', '13'],\n",
       "    'answer': '12'},\n",
       "   'q2': {'question': '12 - 8 = ?',\n",
       "    'options': ['1', '2', '3', '4'],\n",
       "    'answer': '4'}}}}"
      ]
     },
     "execution_count": 7,
     "metadata": {},
     "output_type": "execute_result"
    }
   ],
   "source": [
    "datab"
   ]
  },
  {
   "cell_type": "code",
   "execution_count": 10,
   "metadata": {},
   "outputs": [
    {
     "data": {
      "text/plain": [
       "{'q1': {'question': 'Which one is correct team name in NBA?',\n",
       "  'options': ['New York Bulls',\n",
       "   'Los Angeles Kings',\n",
       "   'Golden State Warriros',\n",
       "   'Huston Rocket'],\n",
       "  'answer': 'Huston Rocket'}}"
      ]
     },
     "execution_count": 10,
     "metadata": {},
     "output_type": "execute_result"
    }
   ],
   "source": [
    "datab['quiz']['sport']"
   ]
  },
  {
   "cell_type": "code",
   "execution_count": 12,
   "metadata": {},
   "outputs": [
    {
     "data": {
      "text/plain": [
       "'Which one is correct team name in NBA?'"
      ]
     },
     "execution_count": 12,
     "metadata": {},
     "output_type": "execute_result"
    }
   ],
   "source": [
    "datab['quiz']['sport']['q1']['question']"
   ]
  },
  {
   "cell_type": "code",
   "execution_count": 13,
   "metadata": {},
   "outputs": [],
   "source": [
    "def read_dict(d):\n",
    "    for k, v in d.items():\n",
    "        if type(v) is dict:\n",
    "            read_dict(v)\n",
    "        else:\n",
    "            print(v)\n",
    "        print(\"------\")"
   ]
  },
  {
   "cell_type": "code",
   "execution_count": 14,
   "metadata": {},
   "outputs": [
    {
     "name": "stdout",
     "output_type": "stream",
     "text": [
      "Which one is correct team name in NBA?\n",
      "------\n",
      "['New York Bulls', 'Los Angeles Kings', 'Golden State Warriros', 'Huston Rocket']\n",
      "------\n",
      "Huston Rocket\n",
      "------\n",
      "------\n",
      "------\n",
      "5 + 7 = ?\n",
      "------\n",
      "['10', '11', '12', '13']\n",
      "------\n",
      "12\n",
      "------\n",
      "------\n",
      "12 - 8 = ?\n",
      "------\n",
      "['1', '2', '3', '4']\n",
      "------\n",
      "4\n",
      "------\n",
      "------\n",
      "------\n",
      "------\n"
     ]
    }
   ],
   "source": [
    "read_dict(datab)"
   ]
  },
  {
   "cell_type": "code",
   "execution_count": 15,
   "metadata": {},
   "outputs": [],
   "source": [
    "dict_b = {'aa':100, 'bb':200, 'ff':70}"
   ]
  },
  {
   "cell_type": "code",
   "execution_count": 16,
   "metadata": {},
   "outputs": [],
   "source": [
    "with open(\"example_3.json\", \"w\") as fj:\n",
    "    json.dump(dict_b, fj)"
   ]
  },
  {
   "cell_type": "code",
   "execution_count": null,
   "metadata": {},
   "outputs": [],
   "source": []
  }
 ],
 "metadata": {
  "kernelspec": {
   "display_name": "Python 3",
   "language": "python",
   "name": "python3"
  },
  "language_info": {
   "codemirror_mode": {
    "name": "ipython",
    "version": 3
   },
   "file_extension": ".py",
   "mimetype": "text/x-python",
   "name": "python",
   "nbconvert_exporter": "python",
   "pygments_lexer": "ipython3",
   "version": "3.7.7"
  }
 },
 "nbformat": 4,
 "nbformat_minor": 4
}
