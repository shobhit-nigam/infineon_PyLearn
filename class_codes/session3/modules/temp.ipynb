{
 "cells": [
  {
   "cell_type": "code",
   "execution_count": 1,
   "metadata": {},
   "outputs": [],
   "source": [
    "import colorama"
   ]
  },
  {
   "cell_type": "code",
   "execution_count": 2,
   "metadata": {},
   "outputs": [
    {
     "name": "stdout",
     "output_type": "stream",
     "text": [
      "Help on package colorama:\n",
      "\n",
      "NAME\n",
      "    colorama - # Copyright Jonathan Hartley 2013. BSD 3-Clause license, see LICENSE file.\n",
      "\n",
      "PACKAGE CONTENTS\n",
      "    ansi\n",
      "    ansitowin32\n",
      "    initialise\n",
      "    win32\n",
      "    winterm\n",
      "\n",
      "DATA\n",
      "    Back = <colorama.ansi.AnsiBack object>\n",
      "    Cursor = <colorama.ansi.AnsiCursor object>\n",
      "    Fore = <colorama.ansi.AnsiFore object>\n",
      "    Style = <colorama.ansi.AnsiStyle object>\n",
      "\n",
      "VERSION\n",
      "    0.4.3\n",
      "\n",
      "FILE\n",
      "    /Users/shobhit/opt/anaconda3/lib/python3.7/site-packages/colorama/__init__.py\n",
      "\n",
      "\n"
     ]
    }
   ],
   "source": [
    "help(colorama)"
   ]
  },
  {
   "cell_type": "code",
   "execution_count": 3,
   "metadata": {},
   "outputs": [
    {
     "name": "stdout",
     "output_type": "stream",
     "text": [
      "welcome to colours\n"
     ]
    }
   ],
   "source": [
    "import colour"
   ]
  },
  {
   "cell_type": "code",
   "execution_count": 4,
   "metadata": {},
   "outputs": [
    {
     "name": "stdout",
     "output_type": "stream",
     "text": [
      "purple needs\n",
      "cool blue\n",
      "scarlet red\n"
     ]
    }
   ],
   "source": [
    "colour.purple()"
   ]
  },
  {
   "cell_type": "code",
   "execution_count": null,
   "metadata": {},
   "outputs": [],
   "source": []
  }
 ],
 "metadata": {
  "kernelspec": {
   "display_name": "Python 3",
   "language": "python",
   "name": "python3"
  },
  "language_info": {
   "codemirror_mode": {
    "name": "ipython",
    "version": 3
   },
   "file_extension": ".py",
   "mimetype": "text/x-python",
   "name": "python",
   "nbconvert_exporter": "python",
   "pygments_lexer": "ipython3",
   "version": "3.7.7"
  }
 },
 "nbformat": 4,
 "nbformat_minor": 4
}
